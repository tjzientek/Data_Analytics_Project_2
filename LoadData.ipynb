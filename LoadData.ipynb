{
 "cells": [
  {
   "cell_type": "code",
   "execution_count": 7,
   "metadata": {},
   "outputs": [],
   "source": [
    "import pandas\n"
   ]
  },
  {
   "cell_type": "code",
   "execution_count": 8,
   "metadata": {},
   "outputs": [],
   "source": [
    "# Python SQL toolkit and Object Relational Mapper\n",
    "from sqlalchemy import Column, Integer, String, Float\n",
    "from sqlalchemy.orm import Session\n",
    "from sqlalchemy import create_engine, func\n",
    "from sqlalchemy.ext.declarative import declarative_base"
   ]
  },
  {
   "cell_type": "code",
   "execution_count": 10,
   "metadata": {},
   "outputs": [],
   "source": [
    "Base = declarative_base()\n",
    "\n",
    "engine = create_engine('sqlite:///airport.db')\n",
    "Base.metadata.create_all(engine)\n",
    "\n",
    "class airports(Base):\n",
    "    #Tell SQLAlchemy what the table name is and if there's any table-specific arguments it should know about\n",
    "    __tablename__ = 'airports'\n",
    "   \n",
    "    #tell SQLAlchemy the name of columns and its attributes:\n",
    "    Airport_ID = Column(Integer(), primary_key=True, nullable=False) \n",
    "    Name = Column(String(255))\n",
    "    City = Column(String(255))\n",
    "    Country = Column(String(255))\n",
    "    IATA = Column(String(255))\n",
    "    ICAO = Column(String(255))\n",
    "    Latitude = Column(Float)\n",
    "    Longitude = Column(Float)\n",
    "    Altitude = Column(Integer())\n",
    "    Timezone = Column(Float)\n",
    "    DST = Column(String(50))\n",
    "    Tz_database = Column(String(255))\n",
    "    Type = Column(String(255))\n",
    "    Source = Column(String(255))\n",
    "    \n",
    "    \n",
    "\n",
    "file_name = 'airports.csv'\n",
    "df = pandas.read_csv(file_name)\n",
    "df.to_sql(con=engine, name=airports.__tablename__, if_exists='replace', index=False, index_label='Airport_ID')"
   ]
  },
  {
   "cell_type": "code",
   "execution_count": 5,
   "metadata": {},
   "outputs": [],
   "source": [
    "import csv, sqlite3\n",
    "\n",
    "con = sqlite3.connect('airports.db')\n",
    "cur = con.cursor()\n",
    "cur.execute(\"CREATE TABLE airports (Airport_ID INTEGER PRIMARY KEY,\" \\\n",
    "            \"Name text, City text, Country text, IATA text, ICAO text, Latitude REAL, Longitude REAL, \" \\\n",
    "           \"Altitude INTEGER, Timezone TEXT, DST TEXT, Tz_database TEXT, Type TEXT, Source TEXT);\")\n",
    "\n",
    "with open('airports.csv') as fin: # `with` statement available in 2.5+\n",
    "    # csv.DictReader uses first line in file for column headings by default\n",
    "    dr = csv.DictReader(fin) # comma is default delimiter\n",
    "    to_db = [(i['Airport_ID'], i['Name'], i['City'], i['Country'], i['IATA'], i['ICAO'], i['Latitude'], \\\n",
    "             i['Longitude'], i['Altitude'], i['Timezone'], i['DST'], i['Tz_database'], i['Type'], i['Source']) for i in dr]\n",
    "\n",
    "cur.executemany(\"INSERT INTO airports (Airport_ID, Name, City, Country, IATA, ICAO, Latitude, Longitude, Altitude, Timezone, DST, Tz_database, Type, Source) VALUES (?, ?, ?, ?, ?, ?, ?, ?, ?, ?, ?, ?, ?, ?);\", to_db)\n",
    "con.commit()\n",
    "con.close()"
   ]
  },
  {
   "cell_type": "code",
   "execution_count": null,
   "metadata": {},
   "outputs": [],
   "source": []
  }
 ],
 "metadata": {
  "kernelspec": {
   "display_name": "Python 3",
   "language": "python",
   "name": "python3"
  },
  "language_info": {
   "codemirror_mode": {
    "name": "ipython",
    "version": 3
   },
   "file_extension": ".py",
   "mimetype": "text/x-python",
   "name": "python",
   "nbconvert_exporter": "python",
   "pygments_lexer": "ipython3",
   "version": "3.6.4"
  }
 },
 "nbformat": 4,
 "nbformat_minor": 2
}
