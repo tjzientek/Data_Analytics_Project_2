{
 "cells": [
  {
   "cell_type": "code",
   "execution_count": 11,
   "metadata": {},
   "outputs": [],
   "source": [
    "# Import SQLAlchemy `automap` and other dependencies\n",
    "\n",
    "import pandas as pd\n",
    "import sqlite3\n",
    "import sqlalchemy\n",
    "from sqlalchemy.ext.automap import automap_base\n",
    "from sqlalchemy.orm import Session\n",
    "from sqlalchemy import MetaData\n",
    "from sqlalchemy.ext.declarative import declarative_base\n",
    "from sqlalchemy import Column, Integer, String, Float, VARCHAR\n",
    "from sqlalchemy import create_engine, inspect\n",
    "\n"
   ]
  },
  {
   "cell_type": "code",
   "execution_count": 12,
   "metadata": {},
   "outputs": [
    {
     "name": "stdout",
     "output_type": "stream",
     "text": [
      "successful connection\n"
     ]
    }
   ],
   "source": [
    "# Create the connection engine\n",
    "engine = create_engine(\"sqlite:///airport.db\")\n",
    "print(\"successful connection\")\n",
    "\n",
    "conn = sqlite3.connect(\"airport.db\")"
   ]
  },
  {
   "cell_type": "code",
   "execution_count": 13,
   "metadata": {},
   "outputs": [
    {
     "data": {
      "text/plain": [
       "[]"
      ]
     },
     "execution_count": 13,
     "metadata": {},
     "output_type": "execute_result"
    }
   ],
   "source": [
    "Base = automap_base()\n",
    "Base.prepare(engine, reflect=True)\n",
    "Base.classes.keys()"
   ]
  },
  {
   "cell_type": "code",
   "execution_count": 14,
   "metadata": {},
   "outputs": [],
   "source": [
    "# Create the inspector and connect it to the engine\n",
    "inspector = inspect(engine)"
   ]
  },
  {
   "cell_type": "code",
   "execution_count": 15,
   "metadata": {},
   "outputs": [
    {
     "data": {
      "text/plain": [
       "['airports']"
      ]
     },
     "execution_count": 15,
     "metadata": {},
     "output_type": "execute_result"
    }
   ],
   "source": [
    "# Collect the names of tables within the database\n",
    "inspector.get_table_names()"
   ]
  },
  {
   "cell_type": "code",
   "execution_count": 16,
   "metadata": {},
   "outputs": [
    {
     "name": "stdout",
     "output_type": "stream",
     "text": [
      "index BIGINT\n",
      "Airport ID BIGINT\n",
      "Name TEXT\n",
      "City TEXT\n",
      "Country TEXT\n",
      "IATA TEXT\n",
      "ICAO TEXT\n",
      "Latitude FLOAT\n",
      "Longitude FLOAT\n",
      "Altitude BIGINT\n",
      "Timezone TEXT\n",
      "DST TEXT\n",
      "Tz database time zone TEXT\n",
      "Type TEXT\n",
      "Source TEXT\n"
     ]
    }
   ],
   "source": [
    "# Using the inspector to print the column names within the 'airports' table and its types\n",
    "columns = inspector.get_columns('airports')\n",
    "for column in columns:\n",
    "    print(column[\"name\"], column[\"type\"])"
   ]
  },
  {
   "cell_type": "code",
   "execution_count": 17,
   "metadata": {},
   "outputs": [],
   "source": [
    "Base.metadata.create_all(engine)"
   ]
  },
  {
   "cell_type": "code",
   "execution_count": 18,
   "metadata": {},
   "outputs": [],
   "source": [
    "session = Session(bind=engine)\n"
   ]
  },
  {
   "cell_type": "code",
   "execution_count": 19,
   "metadata": {},
   "outputs": [],
   "source": [
    "cur = conn.cursor()"
   ]
  },
  {
   "cell_type": "code",
   "execution_count": 20,
   "metadata": {},
   "outputs": [
    {
     "data": {
      "text/plain": [
       "<sqlite3.Cursor at 0x10f4a6d50>"
      ]
     },
     "execution_count": 20,
     "metadata": {},
     "output_type": "execute_result"
    }
   ],
   "source": [
    "cur.execute(\"select * from airports limit 5;\")\n"
   ]
  },
  {
   "cell_type": "code",
   "execution_count": 21,
   "metadata": {},
   "outputs": [
    {
     "name": "stdout",
     "output_type": "stream",
     "text": [
      "[(0, 1, 'Goroka Airport', 'Goroka', 'Papua New Guinea', 'GKA', 'AYGA', -6.081689835, 145.3919983, 5282, '10', 'U', 'Pacific/Port_Moresby', 'airport', 'OurAirports'), (1, 2, 'Madang Airport', 'Madang', 'Papua New Guinea', 'MAG', 'AYMD', -5.207079887, 145.78900149999998, 20, '10', 'U', 'Pacific/Port_Moresby', 'airport', 'OurAirports'), (2, 3, 'Mount Hagen Kagamuga Airport', 'Mount Hagen', 'Papua New Guinea', 'HGU', 'AYMH', -5.826789856, 144.2960052, 5388, '10', 'U', 'Pacific/Port_Moresby', 'airport', 'OurAirports'), (3, 4, 'Nadzab Airport', 'Nadzab', 'Papua New Guinea', 'LAE', 'AYNZ', -6.569803, 146.725977, 239, '10', 'U', 'Pacific/Port_Moresby', 'airport', 'OurAirports'), (4, 5, 'Port Moresby Jacksons International Airport', 'Port Moresby', 'Papua New Guinea', 'POM', 'AYPY', -9.443380356, 147.22000119999998, 146, '10', 'U', 'Pacific/Port_Moresby', 'airport', 'OurAirports')]\n"
     ]
    }
   ],
   "source": [
    "results = cur.fetchall()\n",
    "print(results)"
   ]
  },
  {
   "cell_type": "code",
   "execution_count": null,
   "metadata": {},
   "outputs": [],
   "source": []
  }
 ],
 "metadata": {
  "kernelspec": {
   "display_name": "Python 3",
   "language": "python",
   "name": "python3"
  },
  "language_info": {
   "codemirror_mode": {
    "name": "ipython",
    "version": 3
   },
   "file_extension": ".py",
   "mimetype": "text/x-python",
   "name": "python",
   "nbconvert_exporter": "python",
   "pygments_lexer": "ipython3",
   "version": "3.6.4"
  }
 },
 "nbformat": 4,
 "nbformat_minor": 2
}
