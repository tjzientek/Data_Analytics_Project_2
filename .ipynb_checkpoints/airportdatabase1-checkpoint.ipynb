{
 "cells": [
  {
   "cell_type": "code",
   "execution_count": null,
   "metadata": {},
   "outputs": [],
   "source": [
    "Base = declarative_base()\n",
    "\n",
    "engine = create_engine('sqlite:///airport.db')\n",
    "Base.metadata.create_all(engine)\n",
    "\n",
    "class airports(Base):\n",
    "   #Tell SQLAlchemy what the table name is and if there's any table-specific arguments it should know about\n",
    "   __tablename__ = 'airport'\n",
    "\n",
    "   #tell SQLAlchemy the name of columns and its attributes:\n",
    "\n",
    "\n",
    "   Airport_ID = Column(Integer(), primary_key=True, nullable=False)\n",
    "   Name = Column(String(255))\n",
    "   City = Column(String(255))\n",
    "   Country = Column(String(255))\n",
    "   IATA = Column(String(255))\n",
    "   ICAO = Column(String(255))\n",
    "   Latitude = Column(Float)\n",
    "   Longitude = Column(Float)\n",
    "   Altitude = Column(Integer())\n",
    "   Timezone = Column(Float)\n",
    "   DST = Column(String(50))\n",
    "   Tz_database = Column(String(255))\n",
    "   Type = Column(String(255))\n",
    "   Source = Column(String(255))\n",
    "\n",
    "\n",
    "\n",
    "file_name = 'C:/Users/Austin/Documents/airports.csv'\n",
    "df = pandas.read_csv(file_name)\n",
    "df = df.loc[0:100,:]\n",
    "df.to_sql(con=engine, name='airports', chunksize=50, if_exists='replace')\n",
    "try that\n",
    "and get rid of \"df = df.loc[0:100,:]\" line\n",
    "that was for testing\n",
    "And update file_name to your path"
   ]
  },
  {
   "cell_type": "code",
   "execution_count": 16,
   "metadata": {},
   "outputs": [],
   "source": [
    "import pandas\n",
    "import csv\n"
   ]
  },
  {
   "cell_type": "code",
   "execution_count": 17,
   "metadata": {},
   "outputs": [],
   "source": [
    "# Python SQL toolkit and Object Relational Mapper\n",
    "from sqlalchemy import Column, Integer, String, Float, VARCHAR\n",
    "from sqlalchemy.ext.automap import automap_base\n",
    "from sqlalchemy.orm import Session\n",
    "from sqlalchemy import create_engine, func\n",
    "from sqlalchemy.ext.declarative import declarative_base\n"
   ]
  },
  {
   "cell_type": "code",
   "execution_count": 18,
   "metadata": {},
   "outputs": [],
   "source": [
    "Base = declarative_base()\n",
    "\n",
    "engine = create_engine('sqlite:///airport.db')\n",
    "Base.metadata.create_all(engine)\n",
    "\n",
    "class airports(Base):\n",
    "    #Tell SQLAlchemy what the table name is and if there's any table-specific arguments it should know about\n",
    "    __tablename__ = 'airport'\n",
    "   \n",
    "    #tell SQLAlchemy the name of columns and its attributes:\n",
    "    \n",
    "    \n",
    "    Airport_ID = Column(Integer(), primary_key=True, nullable=False) \n",
    "    Name = Column(String(255))\n",
    "    City = Column(String(255))\n",
    "    Country = Column(String(255))\n",
    "    IATA = Column(String(255))\n",
    "    ICAO = Column(String(255))\n",
    "    Latitude = Column(Float)\n",
    "    Longitude = Column(Float)\n",
    "    Altitude = Column(Integer())\n",
    "    Timezone = Column(Float)\n",
    "    DST = Column(String(50))\n",
    "    Tz_database = Column(String(255))\n",
    "    Type = Column(String(255))\n",
    "    Source = Column(String(255))\n",
    "    \n",
    "    \n",
    "\n",
    "file_name = 'airports.csv'\n",
    "df = pandas.read_csv(file_name)\n",
    "df.to_sql(con=engine, name=airports.__tablename__, if_exists='replace')"
   ]
  },
  {
   "cell_type": "code",
   "execution_count": 19,
   "metadata": {},
   "outputs": [],
   "source": [
    "# Establish the connection\n",
    "\n",
    "engine = create_engine(\"sqlite:///airport.db\")\n",
    "conn = engine.connect()"
   ]
  },
  {
   "cell_type": "code",
   "execution_count": null,
   "metadata": {},
   "outputs": [],
   "source": [
    "# Create the table in the database\n",
    "\n",
    "Base.metadata.create_all(conn)"
   ]
  },
  {
   "cell_type": "code",
   "execution_count": null,
   "metadata": {},
   "outputs": [],
   "source": [
    "session = Session(bind=engine)"
   ]
  }
 ],
 "metadata": {
  "kernelspec": {
   "display_name": "Python 3",
   "language": "python",
   "name": "python3"
  },
  "language_info": {
   "codemirror_mode": {
    "name": "ipython",
    "version": 3
   },
   "file_extension": ".py",
   "mimetype": "text/x-python",
   "name": "python",
   "nbconvert_exporter": "python",
   "pygments_lexer": "ipython3",
   "version": "3.6.4"
  }
 },
 "nbformat": 4,
 "nbformat_minor": 2
}
