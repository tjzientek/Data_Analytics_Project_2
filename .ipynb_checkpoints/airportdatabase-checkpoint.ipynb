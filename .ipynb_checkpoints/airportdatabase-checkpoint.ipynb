{
 "cells": [
  {
   "cell_type": "code",
   "execution_count": 16,
   "metadata": {},
   "outputs": [],
   "source": [
    "import pandas\n",
    "import csv\n"
   ]
  },
  {
   "cell_type": "code",
   "execution_count": 17,
   "metadata": {},
   "outputs": [],
   "source": [
    "# Python SQL toolkit and Object Relational Mapper\n",
    "from sqlalchemy import Column, Integer, String, Float, VARCHAR\n",
    "from sqlalchemy.ext.automap import automap_base\n",
    "from sqlalchemy.orm import Session\n",
    "from sqlalchemy import create_engine, func\n",
    "from sqlalchemy.ext.declarative import declarative_base\n"
   ]
  },
  {
   "cell_type": "code",
   "execution_count": 18,
   "metadata": {},
   "outputs": [],
   "source": [
    "Base = declarative_base()\n",
    "\n",
    "engine = create_engine('sqlite:///airport.db')\n",
    "Base.metadata.create_all(engine)\n",
    "\n",
    "class airports(Base):\n",
    "    #Tell SQLAlchemy what the table name is and if there's any table-specific arguments it should know about\n",
    "    __tablename__ = 'airports'\n",
    "   \n",
    "    #tell SQLAlchemy the name of columns and its attributes:\n",
    "    \n",
    "    \n",
    "    Airport_ID = Column(Integer(), primary_key=True, nullable=False) \n",
    "    Name = Column(String(255))\n",
    "    City = Column(String(255))\n",
    "    Country = Column(String(255))\n",
    "    IATA = Column(String(255))\n",
    "    ICAO = Column(String(255))\n",
    "    Latitude = Column(Float)\n",
    "    Longitude = Column(Float)\n",
    "    Altitude = Column(Integer())\n",
    "    Timezone = Column(Float)\n",
    "    DST = Column(String(50))\n",
    "    Tz_database = Column(String(255))\n",
    "    Type = Column(String(255))\n",
    "    Source = Column(String(255))\n",
    "    \n",
    "    \n",
    "\n",
    "file_name = 'airports.csv'\n",
    "df = pandas.read_csv(file_name)\n",
    "df.to_sql(con=engine, name=airports.__tablename__, if_exists='replace')"
   ]
  },
  {
   "cell_type": "code",
   "execution_count": 19,
   "metadata": {},
   "outputs": [],
   "source": [
    " engine = create_engine(\"sqlite:///airport.db\")"
   ]
  },
  {
   "cell_type": "code",
   "execution_count": null,
   "metadata": {},
   "outputs": [],
   "source": []
  },
  {
   "cell_type": "code",
   "execution_count": 20,
   "metadata": {},
   "outputs": [
    {
     "ename": "AttributeError",
     "evalue": "type object 'Base' has no attribute 'classes'",
     "output_type": "error",
     "traceback": [
      "\u001b[0;31m---------------------------------------------------------------------------\u001b[0m",
      "\u001b[0;31mAttributeError\u001b[0m                            Traceback (most recent call last)",
      "\u001b[0;32m<ipython-input-20-25714a0df53b>\u001b[0m in \u001b[0;36m<module>\u001b[0;34m()\u001b[0m\n\u001b[1;32m      1\u001b[0m \u001b[0;31m# We can view all of the classes that automap found\u001b[0m\u001b[0;34m\u001b[0m\u001b[0;34m\u001b[0m\u001b[0m\n\u001b[0;32m----> 2\u001b[0;31m \u001b[0mBase\u001b[0m\u001b[0;34m.\u001b[0m\u001b[0mclasses\u001b[0m\u001b[0;34m.\u001b[0m\u001b[0mkeys\u001b[0m\u001b[0;34m(\u001b[0m\u001b[0;34m)\u001b[0m\u001b[0;34m\u001b[0m\u001b[0m\n\u001b[0m",
      "\u001b[0;31mAttributeError\u001b[0m: type object 'Base' has no attribute 'classes'"
     ]
    }
   ],
   "source": [
    "# We can view all of the classes that automap found\n",
    "Base.classes.keys()"
   ]
  },
  {
   "cell_type": "code",
   "execution_count": null,
   "metadata": {},
   "outputs": [],
   "source": []
  },
  {
   "cell_type": "code",
   "execution_count": null,
   "metadata": {},
   "outputs": [],
   "source": []
  }
 ],
 "metadata": {
  "kernelspec": {
   "display_name": "Python 3",
   "language": "python",
   "name": "python3"
  },
  "language_info": {
   "codemirror_mode": {
    "name": "ipython",
    "version": 3
   },
   "file_extension": ".py",
   "mimetype": "text/x-python",
   "name": "python",
   "nbconvert_exporter": "python",
   "pygments_lexer": "ipython3",
   "version": "3.6.4"
  }
 },
 "nbformat": 4,
 "nbformat_minor": 2
}
